{
  "nbformat": 4,
  "nbformat_minor": 0,
  "metadata": {
    "colab": {
      "private_outputs": true,
      "provenance": [],
      "authorship_tag": "ABX9TyP4Ga+OjPsKjVzXuqRsJlhV",
      "include_colab_link": true
    },
    "kernelspec": {
      "name": "python3",
      "display_name": "Python 3"
    },
    "language_info": {
      "name": "python"
    }
  },
  "cells": [
    {
      "cell_type": "markdown",
      "metadata": {
        "id": "view-in-github",
        "colab_type": "text"
      },
      "source": [
        "<a href=\"https://colab.research.google.com/github/Safin0092024/ISYS5002-2024-Semester1/blob/main/Assignment_1%20(2).ipynb\" target=\"_parent\"><img src=\"https://colab.research.google.com/assets/colab-badge.svg\" alt=\"Open In Colab\"/></a>"
      ]
    },
    {
      "cell_type": "markdown",
      "source": [
        "# **Energy Efficient and Sustainable Program.**"
      ],
      "metadata": {
        "id": "dSxn3uLPigOd"
      }
    },
    {
      "cell_type": "markdown",
      "source": [
        "# Step 1: Importing Libraries:\n",
        "### The \"Datetime\" module is imported to handle date and time-related operations.\n",
        "### matplotlib.pyplot is imported as \"plt\" for data visualization."
      ],
      "metadata": {
        "id": "5Mrd26XFjBCd"
      }
    },
    {
      "cell_type": "code",
      "execution_count": null,
      "metadata": {
        "id": "SDgoi3-oXnRm"
      },
      "outputs": [],
      "source": [
        "import datetime #  import the library for date and time\n",
        "import matplotlib.pyplot as plt # import matplotlib"
      ]
    },
    {
      "cell_type": "markdown",
      "source": [
        "# Step 2: Define Function: Get_User_Input:\n",
        "\n",
        "## This function prompts the user to input energy consumption data for a specific month. It takes the month number as input and returns the month name, electricity consumption, gas consumption, and water consumption for that month."
      ],
      "metadata": {
        "id": "nIE-iyOyjlzR"
      }
    },
    {
      "cell_type": "code",
      "source": [
        "def get_user_input(month_num):\n",
        "    # Prompts user for energy consumption data for a specific month\n",
        "    month_name = datetime.date(2023, month_num, 1).strftime('%B')  # Converting month number to month name\n",
        "    electricity = float(input(f\"Enter electricity consumption for {month_name} (kWh): \"))\n",
        "    gas = float(input(f\"Enter gas consumption for {month_name} (cubic meters): \"))\n",
        "    water = float(input(f\"Enter water consumption for {month_name} (cubic meters): \"))\n",
        "    return month_name, electricity, gas, water"
      ],
      "metadata": {
        "id": "IxmPckvAnW43"
      },
      "execution_count": null,
      "outputs": []
    },
    {
      "cell_type": "markdown",
      "source": [
        "# Step 3: Define Function: Collect_Yearly_Data:\n",
        "\n",
        "## This function collects data for the first six months by iterating each month till June. It calls 'get_user_input()' for the first six months each and stores the data in the dictionary."
      ],
      "metadata": {
        "id": "WqNpc1Tkncxm"
      }
    },
    {
      "cell_type": "code",
      "source": [
        "def Collect_Year_Date():\n",
        "  # Collects monthely energy consumption date for a year\n",
        "  date = {} # Creating a dictionary\n",
        "  for month in range(1,13): # Starting a 'for' loop that will cont. for 12 times\n",
        "    month_name, electricity, gas, water = gas, water = get_user_input(month) # Promots the user for date specific to a perticular month\n",
        "    date[month_name] = { # adding a new key-value pair to the date dictionary where the key is obtained from get_user_input(month)\n",
        "                       \"electricity\": electricity,\n",
        "                       \"gas\": gas,\n",
        "                       \"water\": water\n",
        "                       }\n",
        "  return date"
      ],
      "metadata": {
        "id": "PjFhAgqfn_Px"
      },
      "execution_count": null,
      "outputs": []
    },
    {
      "cell_type": "markdown",
      "source": [
        "# Step 4: Define Function: Display_Analysis_Options:\n",
        "\n",
        "## This function creates data analysis for 3 options:\n",
        "1. Monthly Consumption Trends\n",
        "2. Comparison of Energy Types by Consumption\n",
        "3. Total Consumption Breakdown from January to December"
      ],
      "metadata": {
        "id": "4t0p8xGBrkwg"
      }
    },
    {
      "cell_type": "code",
      "source": [
        "def display_analysis_options():\n",
        "  # Prints available analysis options for user selection\n",
        "  print(\"\\nAnalysis Options:\")\n",
        "  print(\"1. Monthly Consumption Trends\")\n",
        "  print(\"2. Comparison of Energy Types by Consumption\")\n",
        "  print(\"3. Total Consumption Breakdown From January to December\")\n"
      ],
      "metadata": {
        "id": "Ov9rCHB4rwHW"
      },
      "execution_count": null,
      "outputs": []
    },
    {
      "cell_type": "code",
      "source": [
        "import datetime # import the library for date and time\n",
        "import matplotlib.pyplot as plt # import matplotlib\n",
        "\n",
        "def get_user_input(month_num):\n",
        "  # Prompts user for energy consumption data for a specific month\n",
        "  month_name = datetime.date(2023, month_num, 1).strftime('%B') # Applying formatting string to represent date\n",
        "  electricity = float(input(f\"Enter electricity consumption for {month_name} (kWh): \")) # Asks user to input electricity consumption\n",
        "  gas = float(input(f\"Enter gas consumption for {month_name} (cubic meters): \")) # Asks user to input gas consumption\n",
        "  water = float(input(f\"Enter water consumption for {month_name} (cubic meters): \")) # Asks user to input water consumption\n",
        "  return month_name, electricity, gas, water\n",
        "\n",
        "def collect_yearly_data():\n",
        "  # Collects monthly energy consumption data for a year\n",
        "  data = {} # Creating a dictionary\n",
        "  for month in range(1, 13): # Starting a 'for' loop that will cont. for 12 times\n",
        "    month_name, electricity, gas, water = get_user_input(month) # Prompts the user for data specific to a particular month\n",
        "    data[month_name] = { # Adding a new key-value pair to the data dictionary where the key is obtained from get_user_input(month)\n",
        "      \"electricity\": electricity,\n",
        "      \"gas\": gas,\n",
        "      \"water\": water\n",
        "    }\n",
        "  return data\n",
        "\n",
        "def display_analysis_options():\n",
        "  # Prints available analysis options for user selection\n",
        "  print(\"\\nAnalysis Options:\")\n",
        "  print(\"1. Monthly Consumption Trends\")\n",
        "  print(\"2. Comparison of Energy Types by Consumption\")\n",
        "  print(\"3. Total Consumption Breakdown From January to December\")\n",
        "\n",
        "def analyze_data(data, choice):\n",
        "  # Performs user-selected analysis and generates data visualizations\n",
        "  if choice == 1:\n",
        "    # Monthly Consumption Trends Using a Graph\n",
        "    months = ['January', 'February', 'March', 'April', 'May', 'June', 'July', 'August', 'September', 'October', 'November', 'December'] # Generating a list of months from January to June\n",
        "    electricity = [data[month][\"electricity\"] for month in months] # Generating electricity data for each month\n",
        "    gas = [data[month][\"gas\"] for month in months] # Generating gas data for each month\n",
        "    water = [data[month][\"water\"] for month in months] # Generating water data for each month\n",
        "    # Creating a line graph\n",
        "    plt.figure(figsize=(15, 10))\n",
        "    plt.plot(months, electricity, label=\"Electricity (kWh)\")\n",
        "    plt.plot(months, gas, label=\"Gas (cubic meters)\")\n",
        "    plt.plot(months, water, label=\"Water (cubic meters)\")\n",
        "    plt.xlabel(\"Month\")\n",
        "    plt.ylabel(\"Consumption\")\n",
        "    plt.title(\"Monthly Consumption Trends\")\n",
        "    plt.legend()\n",
        "    plt.show()\n",
        "  elif choice == 2:\n",
        "    # Comparison of Energy Types by Consumption using a pie chart\n",
        "    # Calculation of total consumption for each energy type\n",
        "    total_electricity = sum([data[month][\"electricity\"] for month in data])\n",
        "    total_gas = sum([data[month][\"gas\"] for month in data])\n",
        "    total_water = sum([data[month][\"water\"] for month in data])\n",
        "    # Creating a pie chart\n",
        "    labels = \"Electricity\", \"Gas\", \"Water\"\n",
        "    sizes = [total_electricity, total_gas, total_water]\n",
        "    plt.pie(sizes, labels=labels, autopct=\"%5.4f%%\")\n",
        "    plt.title(\"Comparison of Energy Type Consumption (%)\")\n",
        "    plt.show()\n",
        "  elif choice == 3:\n",
        "    # Annual Total Consumption Breakdown\n",
        "    # Calculation of total consumption for each energy type\n",
        "    total_electricity = sum([data[month][\"electricity\"] for month in data])\n",
        "    total_gas = sum([data[month][\"gas\"] for month in data])\n",
        "    total_water = sum([data[month][\"water\"] for month in data])\n",
        "    # Representing annual consumption breakdown for each energy type\n",
        "    print(\"Annual Consumption Breakdown:\")\n",
        "    print(f\"Electricity: {total_electricity} kWh\")\n",
        "    print(f\"Gas: {total_gas} cubic meters\")\n",
        "    print(f\"Water: {total_water} cubic meters\")\n",
        "\n",
        "def main():\n",
        "  # Main function to run the application\n",
        "  print(\"Welcome to the EcoSolutions Energy Consumption Tracker!\")\n",
        "  yearly_data = collect_yearly_data()\n",
        "  display_analysis_options()\n",
        "\n",
        "  valid_choices = [1, 2, 3]\n",
        "  while True:\n",
        "    try:\n",
        "      choice = int(input(\"Enter your choice (1-3): \")) # Asks the user to input a data analytics choice\n",
        "      if choice in valid_choices:\n",
        "        # If valid choice is entered, the analysis will proceed based on choice\n",
        "        break # Exit the loop if a valid choice is made\n",
        "      else:\n",
        "        print(\"Invalid choice. Please enter a number between 1 and 37.\") # If an invalid choice is entered, the user will be asked to reprompt\n",
        "    except ValueError:\n",
        "      print(\"Invalid input. Please enter a number.\") # If an invalid input is entered, the user will be asked to reprompt\n",
        "\n",
        "  analyze_data(yearly_data, choice)\n",
        "\n",
        "if __name__ == \"__main__\": # Executes the main function if the script is run directly\n",
        "  main()"
      ],
      "metadata": {
        "id": "ZALvoFOqGrXc"
      },
      "execution_count": null,
      "outputs": []
    }
  ]
}