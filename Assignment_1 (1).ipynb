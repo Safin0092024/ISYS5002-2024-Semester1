{
  "nbformat": 4,
  "nbformat_minor": 0,
  "metadata": {
    "colab": {
      "private_outputs": true,
      "provenance": [],
      "authorship_tag": "ABX9TyMgJYPA+WPNFmi2ml/PSyuI",
      "include_colab_link": true
    },
    "kernelspec": {
      "name": "python3",
      "display_name": "Python 3"
    },
    "language_info": {
      "name": "python"
    }
  },
  "cells": [
    {
      "cell_type": "markdown",
      "metadata": {
        "id": "view-in-github",
        "colab_type": "text"
      },
      "source": [
        "<a href=\"https://colab.research.google.com/github/Safin0092024/ISYS5002-2024-Semester1/blob/main/Assignment_1%20(1).ipynb\" target=\"_parent\"><img src=\"https://colab.research.google.com/assets/colab-badge.svg\" alt=\"Open In Colab\"/></a>"
      ]
    },
    {
      "cell_type": "markdown",
      "source": [
        "# **Energy Efficient and Sustainable Program.**"
      ],
      "metadata": {
        "id": "dSxn3uLPigOd"
      }
    },
    {
      "cell_type": "markdown",
      "source": [
        "# Step 1: Importing Libraries:\n",
        "### The \"Datetime\" module is imported to handle date and time-related operations.\n",
        "### matplotlib.pyplot is imported as \"plt\" for data visualization."
      ],
      "metadata": {
        "id": "5Mrd26XFjBCd"
      }
    },
    {
      "cell_type": "code",
      "execution_count": null,
      "metadata": {
        "id": "SDgoi3-oXnRm"
      },
      "outputs": [],
      "source": [
        "import datetime #  import the library for date and time\n",
        "import matplotlib.pyplot as plt # import matplotlib"
      ]
    },
    {
      "cell_type": "markdown",
      "source": [
        "# Step 2: Define Function: Get_User_Input:\n",
        "\n",
        "## This function prompts the user to input energy consumption data for a specific month. It takes the month number as input and returns the month name, electricity consumption, gas consumption, and water consumption for that month."
      ],
      "metadata": {
        "id": "nIE-iyOyjlzR"
      }
    },
    {
      "cell_type": "code",
      "source": [
        "def get_user_input(month_num):\n",
        "    # Prompts user for energy consumption data for a specific month\n",
        "    month_name = datetime.date(2023, month_num, 1).strftime('%B')  # Converting month number to month name\n",
        "    electricity = float(input(f\"Enter electricity consumption for {month_name} (kWh): \"))\n",
        "    gas = float(input(f\"Enter gas consumption for {month_name} (cubic meters): \"))\n",
        "    water = float(input(f\"Enter water consumption for {month_name} (cubic meters): \"))\n",
        "    return month_name, electricity, gas, water"
      ],
      "metadata": {
        "id": "IxmPckvAnW43"
      },
      "execution_count": null,
      "outputs": []
    },
    {
      "cell_type": "markdown",
      "source": [
        "# Step 3: Define Function: Collect_Yearly_Data:\n",
        "\n",
        "## This function collects data for the first six months by iterating each month till June. It calls 'get_user_input()' for the first six months each and stores the data in the dictionary."
      ],
      "metadata": {
        "id": "WqNpc1Tkncxm"
      }
    },
    {
      "cell_type": "code",
      "source": [
        "def Collect_Year_Date():\n",
        "  # Collects monthely energy consumption date for a year\n",
        "  date = {} # Creating a dictionary\n",
        "  for month in range(1,13): # Starting a 'for' loop that will cont. for 12 times\n",
        "    month_name, electricity, gas, water = gas, water = get_user_input(month) # Promots the user for date specific to a perticular month\n",
        "    date[month_name] = { # adding a new key-value pair to the date dictionary where the key is obtained from get_user_input(month)\n",
        "                       \"electricity\": electricity,\n",
        "                       \"gas\": gas,\n",
        "                       \"water\": water\n",
        "                       }\n",
        "  return date"
      ],
      "metadata": {
        "id": "PjFhAgqfn_Px"
      },
      "execution_count": null,
      "outputs": []
    },
    {
      "cell_type": "markdown",
      "source": [
        "# Step 4: Define Function: Display_Analysis_Options:\n",
        "\n",
        "## This function creates data analysis for 3 options:\n",
        "1. Monthly Consumption Trends\n",
        "2. Comparison of Energy Types by Consumption\n",
        "3. Total Consumption Breakdown from January to December"
      ],
      "metadata": {
        "id": "4t0p8xGBrkwg"
      }
    },
    {
      "cell_type": "code",
      "source": [
        "def display_analysis_options():\n",
        "  # Prints available analysis options for user selection\n",
        "  print(\"\\nAnalysis Options:\")\n",
        "  print(\"1. Monthly Consumption Trends\")\n",
        "  print(\"2. Comparison of Energy Types by Consumption\")\n",
        "  print(\"3. Total Consumption Breakdown From January to December\")\n"
      ],
      "metadata": {
        "id": "Ov9rCHB4rwHW"
      },
      "execution_count": null,
      "outputs": []
    }
  ]
}