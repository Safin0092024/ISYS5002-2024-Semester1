{
  "nbformat": 4,
  "nbformat_minor": 0,
  "metadata": {
    "colab": {
      "private_outputs": true,
      "provenance": [],
      "authorship_tag": "ABX9TyNrVEKEzzqzMrU2vlJz4KfZ",
      "include_colab_link": true
    },
    "kernelspec": {
      "name": "python3",
      "display_name": "Python 3"
    },
    "language_info": {
      "name": "python"
    }
  },
  "cells": [
    {
      "cell_type": "markdown",
      "metadata": {
        "id": "view-in-github",
        "colab_type": "text"
      },
      "source": [
        "<a href=\"https://colab.research.google.com/github/Safin0092024/ISYS5002-2024-Semester1/blob/main/ISYS_ASSIGNMENT_2.ipynb\" target=\"_parent\"><img src=\"https://colab.research.google.com/assets/colab-badge.svg\" alt=\"Open In Colab\"/></a>"
      ]
    },
    {
      "cell_type": "markdown",
      "source": [
        "## Australian Energy Dataset Analysis\n",
        "***Answering the group B question number 5***\n",
        "\n",
        "To analyse and visualise the total energy consumption for each state, it is importent to import the sql data file and connect the file."
      ],
      "metadata": {
        "id": "BpEPPmUxQBLB"
      }
    },
    {
      "cell_type": "code",
      "execution_count": null,
      "metadata": {
        "id": "oU7mztmvEdpx"
      },
      "outputs": [],
      "source": [
        "import sqlite3"
      ]
    },
    {
      "cell_type": "code",
      "source": [
        "conn = sqlite3.connect('AUS_energy_sqlite3.db')\n",
        "cur = conn.cursor()"
      ],
      "metadata": {
        "id": "imlWrOhLE6jM"
      },
      "execution_count": null,
      "outputs": []
    },
    {
      "cell_type": "markdown",
      "source": [],
      "metadata": {
        "id": "mfcm_lJGSxTc"
      }
    },
    {
      "cell_type": "code",
      "source": [
        "sql = '''\n",
        "SELECT name FROM sqlite_master WHERE type='table';\n",
        "'''\n",
        "cur.execute(sql)\n",
        "cur.fetchall()"
      ],
      "metadata": {
        "id": "iCqLabFejGvq"
      },
      "execution_count": null,
      "outputs": []
    },
    {
      "cell_type": "code",
      "source": [
        "#inspect the details of the AUS_energy_sqlite3.db\n",
        "\n",
        "sql = '''\n",
        "PRAGMA table_info(AUS_energy);\n",
        "'''\n",
        "cur.execute(sql)\n",
        "cur.fetchall()"
      ],
      "metadata": {
        "id": "FZ1pRb4fkHUn"
      },
      "execution_count": null,
      "outputs": []
    },
    {
      "cell_type": "code",
      "source": [
        "import pandas as pd\n",
        "\n",
        "sql = '''\n",
        "SELECT * FROM AUS_energy;\n",
        "'''\n",
        "AUS_energy_df = pd.read_sql_query(sql, conn)"
      ],
      "metadata": {
        "id": "AMypldAzGaDT"
      },
      "execution_count": null,
      "outputs": []
    },
    {
      "cell_type": "code",
      "source": [
        "AUS_energy_df.head()"
      ],
      "metadata": {
        "id": "UvInvIA6KLnW"
      },
      "execution_count": null,
      "outputs": []
    },
    {
      "cell_type": "code",
      "source": [
        "AUS_energy_df.info()"
      ],
      "metadata": {
        "id": "zC6UkQ1OZJyk"
      },
      "execution_count": null,
      "outputs": []
    },
    {
      "cell_type": "code",
      "source": [
        "AUS_energy_df.describe()"
      ],
      "metadata": {
        "id": "Fj_kdcT_ZXSn"
      },
      "execution_count": null,
      "outputs": []
    },
    {
      "cell_type": "code",
      "source": [
        "AUS_energy_df"
      ],
      "metadata": {
        "id": "TgmKhyxPZnXs"
      },
      "execution_count": null,
      "outputs": []
    },
    {
      "cell_type": "code",
      "source": [
        "# Check for missing values\n",
        "AUS_energy_df.isnull()"
      ],
      "metadata": {
        "id": "f2Z_MR-bsXVO"
      },
      "execution_count": null,
      "outputs": []
    },
    {
      "cell_type": "code",
      "source": [
        "AUS_energy_df.duplicated()"
      ],
      "metadata": {
        "id": "48dq2WNPeblk"
      },
      "execution_count": null,
      "outputs": []
    },
    {
      "cell_type": "code",
      "source": [
        "# Check for missing values in each row\n",
        "null_records = AUS_energy_df.isnull().any(axis=1)\n",
        "\n",
        "AUS_energy_df[null_records]"
      ],
      "metadata": {
        "id": "1S-lAjbJtd-X"
      },
      "execution_count": null,
      "outputs": []
    },
    {
      "cell_type": "markdown",
      "source": [
        "**Handling missing values**\n",
        "\n",
        "If there are missing values, we can choose to remove or impute them.\n",
        "\n",
        "For demonstration, we'll impute missing values in the 'alignment' column with 'Unknown'."
      ],
      "metadata": {
        "id": "lnLxP9XRu7nk"
      }
    },
    {
      "cell_type": "markdown",
      "source": [
        "*sources:*\n",
        "\n",
        "* https://pandas.pydata.org/docs/reference/api/pandas.DataFrame.duplicated.html\n",
        "* https://www.geeksforgeeks.org/working-with-missing-data-in-pandas/"
      ],
      "metadata": {
        "id": "b2eDGOCTvDDa"
      }
    },
    {
      "cell_type": "code",
      "source": [
        "# impute missing values with 'Unknown'.\n",
        "AUS_energy_df['Coal (PJ)'].fillna('Unknown', inplace = True)"
      ],
      "metadata": {
        "id": "lB2WHZDct3R-"
      },
      "execution_count": null,
      "outputs": []
    },
    {
      "cell_type": "code",
      "source": [
        "AUS_energy_df"
      ],
      "metadata": {
        "id": "c19nOF5OuLbs"
      },
      "execution_count": null,
      "outputs": []
    },
    {
      "cell_type": "code",
      "source": [
        "import sqlite3\n",
        "import pandas as pd\n",
        "import numpy as np\n",
        "import matplotlib.pyplot as plt\n",
        "\n",
        "# Step 1: Connect to the SQLite database and retrieve the data\n",
        "conn = sqlite3.connect('AUS_energy_sqlite3.db')\n",
        "\n",
        "# Load data into a DataFrame\n",
        "sql = 'SELECT * FROM AUS_energy;'\n",
        "AUS_energy_df = pd.read_sql_query(sql, conn)\n",
        "\n",
        "# Close the connection\n",
        "conn.close()\n",
        "\n",
        "# Step 2: Aggregate the energy consumption data by state and fuel type\n",
        "# Convert relevant columns to numeric, handling missing values\n",
        "energy_cols = ['Coal (PJ)', 'Oil (PJ)', 'Gas (PJ)', 'Renewables (PJ)']\n",
        "AUS_energy_df[energy_cols] = AUS_energy_df[energy_cols].apply(pd.to_numeric, errors='coerce')\n",
        "\n",
        "# Aggregate by State\n",
        "state_energy_df = AUS_energy_df.groupby('State')[energy_cols].sum()\n",
        "\n",
        "# Step 3: Create visualizations using Matplotlib\n",
        "\n",
        "# Create a bar plot for total energy consumption by fuel type for each state\n",
        "state_energy_df.plot(kind='bar', stacked=True, figsize=(14, 8))\n",
        "\n",
        "plt.title('Total Energy Consumption by State and Fuel Type (2008-2022)')\n",
        "plt.xlabel('State')\n",
        "plt.ylabel('Energy Consumption (PJ)')\n",
        "plt.legend(title='Fuel Type')\n",
        "plt.xticks(rotation=45)\n",
        "plt.tight_layout()\n",
        "\n",
        "# Display the plot\n",
        "plt.show()\n"
      ],
      "metadata": {
        "id": "2ncyK6VHlGvf"
      },
      "execution_count": null,
      "outputs": []
    }
  ]
}