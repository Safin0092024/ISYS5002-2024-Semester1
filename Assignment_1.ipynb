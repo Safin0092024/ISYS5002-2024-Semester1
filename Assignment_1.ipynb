{
  "nbformat": 4,
  "nbformat_minor": 0,
  "metadata": {
    "colab": {
      "private_outputs": true,
      "provenance": [],
      "authorship_tag": "ABX9TyNg6uqBiZ1UxMS5oS1tdgfu",
      "include_colab_link": true
    },
    "kernelspec": {
      "name": "python3",
      "display_name": "Python 3"
    },
    "language_info": {
      "name": "python"
    }
  },
  "cells": [
    {
      "cell_type": "markdown",
      "metadata": {
        "id": "view-in-github",
        "colab_type": "text"
      },
      "source": [
        "<a href=\"https://colab.research.google.com/github/Safin0092024/ISYS5002-2024-Semester1/blob/main/Assignment_1.ipynb\" target=\"_parent\"><img src=\"https://colab.research.google.com/assets/colab-badge.svg\" alt=\"Open In Colab\"/></a>"
      ]
    },
    {
      "cell_type": "markdown",
      "source": [
        "# **Energy Efficient and Sustainable Program.**"
      ],
      "metadata": {
        "id": "dSxn3uLPigOd"
      }
    },
    {
      "cell_type": "markdown",
      "source": [
        "# Step 1: Importing Libraries:\n",
        "### The \"Datetime\" module is imported to handle date and time-related operations.\n",
        "### matplotlib.pyplot is imported as \"plt\" for data visualization."
      ],
      "metadata": {
        "id": "5Mrd26XFjBCd"
      }
    },
    {
      "cell_type": "code",
      "execution_count": null,
      "metadata": {
        "id": "SDgoi3-oXnRm"
      },
      "outputs": [],
      "source": [
        "import datetime #  import the library for date and time\n",
        "import matplotlib.pyplot as plt # import matplotlib"
      ]
    },
    {
      "cell_type": "markdown",
      "source": [
        "# Step 2: Define Function: Get_User_Input:\n",
        "\n",
        "## This function prompts the user to input energy consumption data for a specific month. It takes the month number as input and returns the month name, electricity consumption, gas consumption, and water consumption for that month."
      ],
      "metadata": {
        "id": "nIE-iyOyjlzR"
      }
    }
  ]
}