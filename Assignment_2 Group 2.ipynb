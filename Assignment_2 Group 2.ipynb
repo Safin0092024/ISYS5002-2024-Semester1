{
  "nbformat": 4,
  "nbformat_minor": 0,
  "metadata": {
    "colab": {
      "private_outputs": true,
      "provenance": [],
      "authorship_tag": "ABX9TyPYB0gDyoMTe8ydQLa2qvr+",
      "include_colab_link": true
    },
    "kernelspec": {
      "name": "python3",
      "display_name": "Python 3"
    },
    "language_info": {
      "name": "python"
    }
  },
  "cells": [
    {
      "cell_type": "markdown",
      "metadata": {
        "id": "view-in-github",
        "colab_type": "text"
      },
      "source": [
        "<a href=\"https://colab.research.google.com/github/Safin0092024/ISYS5002-2024-Semester1/blob/main/Assignment_2%20Group%202.ipynb\" target=\"_parent\"><img src=\"https://colab.research.google.com/assets/colab-badge.svg\" alt=\"Open In Colab\"/></a>"
      ]
    },
    {
      "cell_type": "code",
      "execution_count": null,
      "metadata": {
        "id": "oU7mztmvEdpx"
      },
      "outputs": [],
      "source": [
        "import sqlite3"
      ]
    },
    {
      "cell_type": "code",
      "source": [
        "conn = sqlite3.connect('AUS_energy_sqlite3.db')\n",
        "cur = conn.cursor()"
      ],
      "metadata": {
        "id": "imlWrOhLE6jM"
      },
      "execution_count": null,
      "outputs": []
    },
    {
      "cell_type": "code",
      "source": [
        "sql = '''\n",
        "SELECT name FROM sqlite_master WHERE type='table';\n",
        "'''\n",
        "cur.execute(sql)\n",
        "cur.fetchall()"
      ],
      "metadata": {
        "id": "iCqLabFejGvq"
      },
      "execution_count": null,
      "outputs": []
    },
    {
      "cell_type": "code",
      "source": [
        "#inspect the details of the AUS_energy_sqlite3.db\n",
        "\n",
        "sql = '''\n",
        "PRAGMA table_info(AUS_energy);\n",
        "'''\n",
        "cur.execute(sql)\n",
        "cur.fetchall()"
      ],
      "metadata": {
        "id": "FZ1pRb4fkHUn"
      },
      "execution_count": null,
      "outputs": []
    },
    {
      "cell_type": "code",
      "source": [
        "import pandas as pd\n",
        "\n",
        "sql = '''\n",
        "SELECT * FROM AUS_energy;\n",
        "'''\n",
        "AUS_energy_df = pd.read_sql_query(sql, conn)"
      ],
      "metadata": {
        "id": "AMypldAzGaDT"
      },
      "execution_count": null,
      "outputs": []
    },
    {
      "cell_type": "code",
      "source": [
        "AUS_energy_df.head()"
      ],
      "metadata": {
        "id": "UvInvIA6KLnW"
      },
      "execution_count": null,
      "outputs": []
    },
    {
      "cell_type": "code",
      "source": [
        "AUS_energy_df.info()"
      ],
      "metadata": {
        "id": "zC6UkQ1OZJyk"
      },
      "execution_count": null,
      "outputs": []
    },
    {
      "cell_type": "code",
      "source": [
        "AUS_energy_df.describe()"
      ],
      "metadata": {
        "id": "Fj_kdcT_ZXSn"
      },
      "execution_count": null,
      "outputs": []
    },
    {
      "cell_type": "code",
      "source": [
        "AUS_energy_df"
      ],
      "metadata": {
        "id": "TgmKhyxPZnXs"
      },
      "execution_count": null,
      "outputs": []
    },
    {
      "cell_type": "code",
      "source": [
        "AUS_energy_df.duplicated()"
      ],
      "metadata": {
        "id": "mBicr_B8dZjQ"
      },
      "execution_count": null,
      "outputs": []
    },
    {
      "cell_type": "code",
      "source": [
        "AUS_energy_df.isnull()"
      ],
      "metadata": {
        "id": "48dq2WNPeblk"
      },
      "execution_count": null,
      "outputs": []
    },
    {
      "cell_type": "code",
      "source": [
        "import sqlite3\n",
        "import pandas as pd\n",
        "import numpy as np\n",
        "import matplotlib.pyplot as plt\n",
        "\n",
        "# Step 1: Connect to the SQLite database and retrieve the data\n",
        "conn = sqlite3.connect('AUS_energy_sqlite3.db')\n",
        "\n",
        "# Load data into a DataFrame\n",
        "sql = 'SELECT * FROM AUS_energy;'\n",
        "AUS_energy_df = pd.read_sql_query(sql, conn)\n",
        "\n",
        "# Close the connection\n",
        "conn.close()\n",
        "\n",
        "# Step 2: Aggregate the energy consumption data by state and fuel type\n",
        "# Convert relevant columns to numeric, handling missing values\n",
        "energy_cols = ['Coal (PJ)', 'Oil (PJ)', 'Gas (PJ)', 'Renewables (PJ)']\n",
        "AUS_energy_df[energy_cols] = AUS_energy_df[energy_cols].apply(pd.to_numeric, errors='coerce')\n",
        "\n",
        "# Aggregate by State\n",
        "state_energy_df = AUS_energy_df.groupby('State')[energy_cols].sum()\n",
        "\n",
        "# Step 3: Create visualizations using Matplotlib\n",
        "\n",
        "# Create a bar plot for total energy consumption by fuel type for each state\n",
        "state_energy_df.plot(kind='bar', stacked=True, figsize=(14, 8))\n",
        "\n",
        "plt.title('Total Energy Consumption by State and Fuel Type (2008-2022)')\n",
        "plt.xlabel('State')\n",
        "plt.ylabel('Energy Consumption (PJ)')\n",
        "plt.legend(title='Fuel Type')\n",
        "plt.xticks(rotation=45)\n",
        "plt.tight_layout()\n",
        "\n",
        "# Display the plot\n",
        "plt.show()\n"
      ],
      "metadata": {
        "id": "2ncyK6VHlGvf"
      },
      "execution_count": null,
      "outputs": []
    }
  ]
}